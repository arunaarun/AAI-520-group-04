{
 "cells": [
  {
   "cell_type": "markdown",
   "metadata": {},
   "source": [
    "## Imports "
   ]
  },
  {
   "cell_type": "markdown",
   "source": [
    "### Importing Libraries"
   ],
   "metadata": {
    "collapsed": false
   }
  },
  {
   "cell_type": "code",
   "execution_count": 1,
   "metadata": {
    "execution": {
     "iopub.execute_input": "2024-10-20T01:20:03.258631Z",
     "iopub.status.busy": "2024-10-20T01:20:03.257721Z",
     "iopub.status.idle": "2024-10-20T01:20:18.046303Z",
     "shell.execute_reply": "2024-10-20T01:20:18.045408Z",
     "shell.execute_reply.started": "2024-10-20T01:20:03.258589Z"
    },
    "trusted": true,
    "ExecuteTime": {
     "end_time": "2024-10-20T22:50:49.531705Z",
     "start_time": "2024-10-20T22:50:39.409860Z"
    }
   },
   "outputs": [
    {
     "name": "stderr",
     "output_type": "stream",
     "text": [
      "[nltk_data] Downloading package averaged_perceptron_tagger to\n",
      "[nltk_data]     /Users/rolosworld/nltk_data...\n",
      "[nltk_data]   Unzipping taggers/averaged_perceptron_tagger.zip.\n",
      "[nltk_data] Downloading package maxent_ne_chunker to\n",
      "[nltk_data]     /Users/rolosworld/nltk_data...\n",
      "[nltk_data]   Unzipping chunkers/maxent_ne_chunker.zip.\n",
      "[nltk_data] Downloading package words to\n",
      "[nltk_data]     /Users/rolosworld/nltk_data...\n",
      "[nltk_data]   Unzipping corpora/words.zip.\n"
     ]
    },
    {
     "name": "stdout",
     "output_type": "stream",
     "text": [
      "Defaulting to user installation because normal site-packages is not writeable\n",
      "Requirement already satisfied: matplotlib in /Library/Python/3.9/site-packages (3.9.0)\n",
      "Requirement already satisfied: contourpy>=1.0.1 in /Library/Python/3.9/site-packages (from matplotlib) (1.2.1)\n",
      "Requirement already satisfied: cycler>=0.10 in /Library/Python/3.9/site-packages (from matplotlib) (0.12.1)\n",
      "Requirement already satisfied: fonttools>=4.22.0 in /Library/Python/3.9/site-packages (from matplotlib) (4.51.0)\n",
      "Requirement already satisfied: kiwisolver>=1.3.1 in /Library/Python/3.9/site-packages (from matplotlib) (1.4.5)\n",
      "Requirement already satisfied: numpy>=1.23 in /Library/Python/3.9/site-packages (from matplotlib) (1.26.4)\n",
      "Requirement already satisfied: packaging>=20.0 in /Library/Python/3.9/site-packages (from matplotlib) (24.0)\n",
      "Requirement already satisfied: pillow>=8 in /Library/Python/3.9/site-packages (from matplotlib) (10.3.0)\n",
      "Requirement already satisfied: pyparsing>=2.3.1 in /Library/Python/3.9/site-packages (from matplotlib) (3.1.2)\n",
      "Requirement already satisfied: python-dateutil>=2.7 in /Library/Python/3.9/site-packages (from matplotlib) (2.9.0.post0)\n",
      "Requirement already satisfied: importlib-resources>=3.2.0 in /Library/Python/3.9/site-packages (from matplotlib) (6.4.0)\n",
      "Requirement already satisfied: zipp>=3.1.0 in /Library/Python/3.9/site-packages (from importlib-resources>=3.2.0->matplotlib) (3.18.2)\n",
      "Requirement already satisfied: six>=1.5 in /Library/Developer/CommandLineTools/Library/Frameworks/Python3.framework/Versions/3.9/lib/python3.9/site-packages (from python-dateutil>=2.7->matplotlib) (1.15.0)\n",
      "Defaulting to user installation because normal site-packages is not writeable\n",
      "Requirement already satisfied: seaborn in /Library/Python/3.9/site-packages (0.13.2)\n",
      "Requirement already satisfied: numpy!=1.24.0,>=1.20 in /Library/Python/3.9/site-packages (from seaborn) (1.26.4)\n",
      "Requirement already satisfied: pandas>=1.2 in /Library/Python/3.9/site-packages (from seaborn) (2.2.2)\n",
      "Requirement already satisfied: matplotlib!=3.6.1,>=3.4 in /Library/Python/3.9/site-packages (from seaborn) (3.9.0)\n",
      "Requirement already satisfied: contourpy>=1.0.1 in /Library/Python/3.9/site-packages (from matplotlib!=3.6.1,>=3.4->seaborn) (1.2.1)\n",
      "Requirement already satisfied: cycler>=0.10 in /Library/Python/3.9/site-packages (from matplotlib!=3.6.1,>=3.4->seaborn) (0.12.1)\n",
      "Requirement already satisfied: fonttools>=4.22.0 in /Library/Python/3.9/site-packages (from matplotlib!=3.6.1,>=3.4->seaborn) (4.51.0)\n",
      "Requirement already satisfied: kiwisolver>=1.3.1 in /Library/Python/3.9/site-packages (from matplotlib!=3.6.1,>=3.4->seaborn) (1.4.5)\n",
      "Requirement already satisfied: packaging>=20.0 in /Library/Python/3.9/site-packages (from matplotlib!=3.6.1,>=3.4->seaborn) (24.0)\n",
      "Requirement already satisfied: pillow>=8 in /Library/Python/3.9/site-packages (from matplotlib!=3.6.1,>=3.4->seaborn) (10.3.0)\n",
      "Requirement already satisfied: pyparsing>=2.3.1 in /Library/Python/3.9/site-packages (from matplotlib!=3.6.1,>=3.4->seaborn) (3.1.2)\n",
      "Requirement already satisfied: python-dateutil>=2.7 in /Library/Python/3.9/site-packages (from matplotlib!=3.6.1,>=3.4->seaborn) (2.9.0.post0)\n",
      "Requirement already satisfied: importlib-resources>=3.2.0 in /Library/Python/3.9/site-packages (from matplotlib!=3.6.1,>=3.4->seaborn) (6.4.0)\n",
      "Requirement already satisfied: pytz>=2020.1 in /Library/Python/3.9/site-packages (from pandas>=1.2->seaborn) (2024.1)\n",
      "Requirement already satisfied: tzdata>=2022.7 in /Library/Python/3.9/site-packages (from pandas>=1.2->seaborn) (2024.1)\n",
      "Requirement already satisfied: zipp>=3.1.0 in /Library/Python/3.9/site-packages (from importlib-resources>=3.2.0->matplotlib!=3.6.1,>=3.4->seaborn) (3.18.2)\n",
      "Requirement already satisfied: six>=1.5 in /Library/Developer/CommandLineTools/Library/Frameworks/Python3.framework/Versions/3.9/lib/python3.9/site-packages (from python-dateutil>=2.7->matplotlib!=3.6.1,>=3.4->seaborn) (1.15.0)\n",
      "Defaulting to user installation because normal site-packages is not writeable\n",
      "Requirement already satisfied: textblob in /Library/Python/3.9/site-packages (0.18.0.post0)\n",
      "Requirement already satisfied: nltk>=3.8 in /Users/rolosworld/Library/Python/3.9/lib/python/site-packages (from textblob) (3.9.1)\n",
      "Requirement already satisfied: click in /Users/rolosworld/Library/Python/3.9/lib/python/site-packages (from nltk>=3.8->textblob) (8.1.7)\n",
      "Requirement already satisfied: joblib in /Library/Python/3.9/site-packages (from nltk>=3.8->textblob) (1.4.2)\n",
      "Requirement already satisfied: regex>=2021.8.3 in /Users/rolosworld/Library/Python/3.9/lib/python/site-packages (from nltk>=3.8->textblob) (2024.9.11)\n",
      "Requirement already satisfied: tqdm in /Users/rolosworld/Library/Python/3.9/lib/python/site-packages (from nltk>=3.8->textblob) (4.66.5)\n",
      "Defaulting to user installation because normal site-packages is not writeable\n",
      "Requirement already satisfied: wordcloud in /Users/rolosworld/Library/Python/3.9/lib/python/site-packages (1.9.3)\n",
      "Requirement already satisfied: numpy>=1.6.1 in /Library/Python/3.9/site-packages (from wordcloud) (1.26.4)\n",
      "Requirement already satisfied: pillow in /Library/Python/3.9/site-packages (from wordcloud) (10.3.0)\n",
      "Requirement already satisfied: matplotlib in /Library/Python/3.9/site-packages (from wordcloud) (3.9.0)\n",
      "Requirement already satisfied: contourpy>=1.0.1 in /Library/Python/3.9/site-packages (from matplotlib->wordcloud) (1.2.1)\n",
      "Requirement already satisfied: cycler>=0.10 in /Library/Python/3.9/site-packages (from matplotlib->wordcloud) (0.12.1)\n",
      "Requirement already satisfied: fonttools>=4.22.0 in /Library/Python/3.9/site-packages (from matplotlib->wordcloud) (4.51.0)\n",
      "Requirement already satisfied: kiwisolver>=1.3.1 in /Library/Python/3.9/site-packages (from matplotlib->wordcloud) (1.4.5)\n",
      "Requirement already satisfied: packaging>=20.0 in /Library/Python/3.9/site-packages (from matplotlib->wordcloud) (24.0)\n",
      "Requirement already satisfied: pyparsing>=2.3.1 in /Library/Python/3.9/site-packages (from matplotlib->wordcloud) (3.1.2)\n",
      "Requirement already satisfied: python-dateutil>=2.7 in /Library/Python/3.9/site-packages (from matplotlib->wordcloud) (2.9.0.post0)\n",
      "Requirement already satisfied: importlib-resources>=3.2.0 in /Library/Python/3.9/site-packages (from matplotlib->wordcloud) (6.4.0)\n",
      "Requirement already satisfied: zipp>=3.1.0 in /Library/Python/3.9/site-packages (from importlib-resources>=3.2.0->matplotlib->wordcloud) (3.18.2)\n",
      "Requirement already satisfied: six>=1.5 in /Library/Developer/CommandLineTools/Library/Frameworks/Python3.framework/Versions/3.9/lib/python3.9/site-packages (from python-dateutil>=2.7->matplotlib->wordcloud) (1.15.0)\n"
     ]
    }
   ],
   "source": [
    "# Import necessary libraries\n",
    "import pandas as pd\n",
    "import re\n",
    "import nltk\n",
    "from nltk.corpus import stopwords\n",
    "from nltk.tokenize import word_tokenize\n",
    "from nltk.stem import PorterStemmer\n",
    "from collections import Counter\n",
    "import numpy as np\n",
    "import matplotlib.pyplot as plt\n",
    "import seaborn as sns\n",
    "from scipy import stats\n",
    "from textblob import TextBlob\n",
    "from wordcloud import WordCloud\n",
    "\n",
    "# Download necessary NLTK data\n",
    "nltk.download('averaged_perceptron_tagger')\n",
    "nltk.download('maxent_ne_chunker')\n",
    "nltk.download('words')\n",
    "nltk.download('punkt', quiet=True)\n",
    "nltk.download('stopwords', quiet=True)\n",
    "\n",
    "# Install necessary packages\n",
    "import subprocess\n",
    "import sys\n",
    "\n",
    "def install(package):\n",
    "    subprocess.check_call([sys.executable, \"-m\", \"pip\", \"install\", package])\n",
    "\n",
    "install('matplotlib')\n",
    "install('seaborn')\n",
    "install('textblob')\n",
    "install('wordcloud')\n"
   ]
  },
  {
   "cell_type": "markdown",
   "metadata": {},
   "source": [
    "## Data Cleaning\n",
    "# Cornell Movie Dialogs Corpus Data Loading\n",
    "\n",
    "This section covers loading and inspecting the **Cornell Movie Dialogs Corpus** using Python's `pandas` and `os` libraries. We'll load metadata about movies, characters, and conversational lines, and then preview the data.\n",
    "\n"
   ]
  },
  {
   "cell_type": "code",
   "execution_count": 8,
   "metadata": {
    "execution": {
     "iopub.execute_input": "2024-10-20T00:58:57.406768Z",
     "iopub.status.busy": "2024-10-20T00:58:57.406091Z",
     "iopub.status.idle": "2024-10-20T00:58:59.156411Z",
     "shell.execute_reply": "2024-10-20T00:58:59.155536Z",
     "shell.execute_reply.started": "2024-10-20T00:58:57.406725Z"
    },
    "trusted": true
   },
   "outputs": [
    {
     "name": "stdout",
     "output_type": "stream",
     "text": [
      "  movieID                       title  year  rating   votes  \\\n",
      "0      m0  10 things i hate about you  1999     6.9   62847   \n",
      "1      m1  1492: conquest of paradise  1992     6.2   10421   \n",
      "2      m2                  15 minutes  2001     6.1   25854   \n",
      "3      m3       2001: a space odyssey  1968     8.4  163227   \n",
      "4      m4                     48 hrs.  1982     6.9   22289   \n",
      "\n",
      "                                              genres  \n",
      "0                              ['comedy', 'romance']  \n",
      "1     ['adventure', 'biography', 'drama', 'history']  \n",
      "2           ['action', 'crime', 'drama', 'thriller']  \n",
      "3                 ['adventure', 'mystery', 'sci-fi']  \n",
      "4  ['action', 'comedy', 'crime', 'drama', 'thrill...  \n",
      "<class 'pandas.core.frame.DataFrame'>\n",
      "RangeIndex: 617 entries, 0 to 616\n",
      "Data columns (total 6 columns):\n",
      " #   Column   Non-Null Count  Dtype  \n",
      "---  ------   --------------  -----  \n",
      " 0   movieID  617 non-null    object \n",
      " 1   title    617 non-null    object \n",
      " 2   year     617 non-null    object \n",
      " 3   rating   617 non-null    float64\n",
      " 4   votes    617 non-null    int64  \n",
      " 5   genres   617 non-null    object \n",
      "dtypes: float64(1), int64(1), object(4)\n",
      "memory usage: 29.0+ KB\n",
      "None\n",
      "\n",
      "Characters:\n",
      "  characterID      name movieID                 movie_title gender position\n",
      "0          u0    BIANCA      m0  10 things i hate about you      f        4\n",
      "1          u1     BRUCE      m0  10 things i hate about you      ?        ?\n",
      "2          u2   CAMERON      m0  10 things i hate about you      m        3\n",
      "3          u3  CHASTITY      m0  10 things i hate about you      ?        ?\n",
      "4          u4      JOEY      m0  10 things i hate about you      m        6\n",
      "\n",
      "Movie Lines:\n",
      "  lineID characterID movieID character          text\n",
      "0  L1045          u0      m0    BIANCA  They do not!\n",
      "1  L1044          u2      m0   CAMERON   They do to!\n",
      "2   L985          u0      m0    BIANCA    I hope so.\n",
      "3   L984          u2      m0   CAMERON     She okay?\n",
      "4   L925          u0      m0    BIANCA     Let's go.\n",
      "\n",
      "Conversations:\n",
      "  char1ID char2ID movieID                        utterances\n",
      "0      u0      u2      m0  ['L194', 'L195', 'L196', 'L197']\n",
      "1      u0      u2      m0                  ['L198', 'L199']\n",
      "2      u0      u2      m0  ['L200', 'L201', 'L202', 'L203']\n",
      "3      u0      u2      m0          ['L204', 'L205', 'L206']\n",
      "4      u0      u2      m0                  ['L207', 'L208']\n"
     ]
    }
   ],
   "source": [
    "import os\n",
    "import pandas as pd\n",
    "\n",
    "dataset_dir = \"/kaggle/input/cornell-moviedialog-corpus\"\n",
    "file_path = os.path.join(dataset_dir, 'movie_titles_metadata.txt')\n",
    "\n",
    "# Read the file using pandas, specifying the correct separator\n",
    "movie_titles = pd.read_csv(file_path, \n",
    "                           sep=' \\+\\+\\+\\$\\+\\+\\+ ',  # Use regex-escaped separator\n",
    "                           engine='python',\n",
    "                           names=['movieID', 'title', 'year', 'rating', 'votes', 'genres'],\n",
    "                           encoding='latin-1')\n",
    "\n",
    "# Display the first few rows\n",
    "print(movie_titles.head())\n",
    "\n",
    "# Display info about the dataframe\n",
    "print(movie_titles.info())\n",
    "\n",
    "# Load character metadata\n",
    "characters = pd.read_csv(os.path.join(dataset_dir, 'movie_characters_metadata.txt'), \n",
    "                         sep=' \\+\\+\\+\\$\\+\\+\\+ ',\n",
    "                         engine='python',\n",
    "                         names=['characterID', 'name', 'movieID', 'movie_title', 'gender', 'position'],\n",
    "                         encoding='latin-1')\n",
    "\n",
    "# Load movie lines\n",
    "with open(os.path.join(dataset_dir, 'movie_lines.txt'), 'r', encoding='iso-8859-1') as f:\n",
    "    lines = [line.strip().split(' +++$+++ ') for line in f]\n",
    "movie_lines = pd.DataFrame(lines, columns=['lineID', 'characterID', 'movieID', 'character', 'text'])\n",
    "\n",
    "# Load conversations\n",
    "with open(os.path.join(dataset_dir, 'movie_conversations.txt'), 'r', encoding='iso-8859-1') as f:\n",
    "    convos = [line.strip().split(' +++$+++ ') for line in f]\n",
    "conversations = pd.DataFrame(convos, columns=['char1ID', 'char2ID', 'movieID', 'utterances'])\n",
    "\n",
    "# Print the first few rows of each dataframe to verify\n",
    "print(\"\\nCharacters:\")\n",
    "print(characters.head())\n",
    "print(\"\\nMovie Lines:\")\n",
    "print(movie_lines.head())\n",
    "print(\"\\nConversations:\")\n",
    "print(conversations.head())"
   ]
  },
  {
   "cell_type": "markdown",
   "metadata": {},
   "source": [
    "### Cleaning year column: Following code identifies entries in the `movie_titles` dataframe where the 'year' column contains non-standard values (i.e., values that cannot be converted to a numeric type). This is achieved by attempting to coerce the 'year' column to numeric values using `pd.to_numeric()`. If coercion fails (`NaN` values), those entries are considered non-standard."
   ]
  },
  {
   "cell_type": "code",
   "execution_count": 10,
   "metadata": {
    "execution": {
     "iopub.execute_input": "2024-10-20T01:02:49.829026Z",
     "iopub.status.busy": "2024-10-20T01:02:49.828009Z",
     "iopub.status.idle": "2024-10-20T01:02:49.842968Z",
     "shell.execute_reply": "2024-10-20T01:02:49.841929Z",
     "shell.execute_reply.started": "2024-10-20T01:02:49.828979Z"
    },
    "trusted": true
   },
   "outputs": [
    {
     "name": "stdout",
     "output_type": "stream",
     "text": [
      "Non-standard year entries:\n",
      "    movieID                     title    year\n",
      "33      m33                black rain  1989/I\n",
      "106    m106            jacob's ladder  1990/I\n",
      "156    m156                   panther  1995/I\n",
      "268    m268                   beloved  1998/I\n",
      "307    m307                     crash  2004/I\n",
      "308    m308                crazy love  2007/I\n",
      "386    m386                      hero  1992/I\n",
      "389    m389                   hostage  2005/I\n",
      "398    m398                  insomnia  2002/I\n",
      "429    m429  the man in the iron mask  1998/I\n",
      "493    m493          romeo and juliet  1968/I\n",
      "507    m507                    scream  1996/I\n",
      "521    m521                   soldier  1998/I\n",
      "559    m559                 the beach  2000/I\n",
      "565    m565             the messenger  2009/I\n",
      "605    m605         who's your daddy?  2003/I\n"
     ]
    }
   ],
   "source": [
    "# Find non-standard year entries\n",
    "non_standard_years = movie_titles[pd.to_numeric(movie_titles['year'], errors='coerce').isna()]\n",
    "print(\"Non-standard year entries:\")\n",
    "print(non_standard_years[['movieID', 'title', 'year']])"
   ]
  },
  {
   "cell_type": "markdown",
   "source": [
    " ## Clean and Convert Year Column in the Movie Titles Data\n",
    "\n",
    "The following code cleans and converts the 'year' column in the `movie_titles` dataframe. It extracts the first 4-digit year from the 'year' entries, handling cases where the year might be embedded within a string or where there are non-standard formats.\n"
   ],
   "metadata": {
    "collapsed": false
   }
  },
  {
   "cell_type": "code",
   "execution_count": 11,
   "metadata": {
    "execution": {
     "iopub.execute_input": "2024-10-20T01:04:17.890467Z",
     "iopub.status.busy": "2024-10-20T01:04:17.889670Z",
     "iopub.status.idle": "2024-10-20T01:04:17.907604Z",
     "shell.execute_reply": "2024-10-20T01:04:17.906619Z",
     "shell.execute_reply.started": "2024-10-20T01:04:17.890428Z"
    },
    "trusted": true
   },
   "outputs": [
    {
     "name": "stdout",
     "output_type": "stream",
     "text": [
      "\n",
      "Cleaned year column:\n",
      "  movieID                                          title  year  year_clean  \\\n",
      "0      m0                     10 things i hate about you  1999        1999   \n",
      "1      m1                     1492: conquest of paradise  1992        1992   \n",
      "2      m2                                     15 minutes  2001        2001   \n",
      "3      m3                          2001: a space odyssey  1968        1968   \n",
      "4      m4                                        48 hrs.  1982        1982   \n",
      "5      m5                              the fifth element  1997        1997   \n",
      "6      m6                                            8mm  1999        1999   \n",
      "7      m7  a nightmare on elm street 4: the dream master  1988        1988   \n",
      "8      m8     a nightmare on elm street: the dream child  1989        1989   \n",
      "9      m9                           the atomic submarine  1959        1959   \n",
      "\n",
      "   year_numeric  \n",
      "0          1999  \n",
      "1          1992  \n",
      "2          2001  \n",
      "3          1968  \n",
      "4          1982  \n",
      "5          1997  \n",
      "6          1999  \n",
      "7          1988  \n",
      "8          1989  \n",
      "9          1959  \n",
      "\n",
      "Entries with NaN years after cleaning:\n",
      "Empty DataFrame\n",
      "Columns: [movieID, title, year, year_clean, year_numeric]\n",
      "Index: []\n"
     ]
    }
   ],
   "source": [
    "import re\n",
    "\n",
    "def clean_year(year_str):\n",
    "    # Extract the first 4-digit number from the string\n",
    "    match = re.search(r'\\d{4}', str(year_str))\n",
    "    if match:\n",
    "        return int(match.group())\n",
    "    else:\n",
    "        return None  # or you could return a default value like 0\n",
    "\n",
    "# Apply the cleaning function\n",
    "movie_titles['year_clean'] = movie_titles['year'].apply(clean_year)\n",
    "\n",
    "# Convert to numeric, replacing any remaining non-numeric values with NaN\n",
    "movie_titles['year_numeric'] = pd.to_numeric(movie_titles['year_clean'], errors='coerce')\n",
    "\n",
    "# Check the results\n",
    "print(\"\\nCleaned year column:\")\n",
    "print(movie_titles[['movieID', 'title', 'year', 'year_clean', 'year_numeric']].head(10))\n",
    "\n",
    "# Check if there are any remaining NaN values\n",
    "nan_years = movie_titles[movie_titles['year_numeric'].isna()]\n",
    "print(\"\\nEntries with NaN years after cleaning:\")\n",
    "print(nan_years[['movieID', 'title', 'year', 'year_clean', 'year_numeric']])"
   ]
  },
  {
   "cell_type": "markdown",
   "metadata": {},
   "source": [
    "### Checking Genre Column: ## Display Sample of the 'Genres' Column and Check its Data Type\n",
    "\n",
    "This code snippet outputs a sample of the `genres` column from the `movie_titles` dataframe, along with the data type of the column. This is useful for verifying the content and structure of the `genres` data."
   ]
  },
  {
   "cell_type": "code",
   "execution_count": 15,
   "metadata": {
    "execution": {
     "iopub.execute_input": "2024-10-20T01:08:30.429983Z",
     "iopub.status.busy": "2024-10-20T01:08:30.429257Z",
     "iopub.status.idle": "2024-10-20T01:08:30.437753Z",
     "shell.execute_reply": "2024-10-20T01:08:30.436717Z",
     "shell.execute_reply.started": "2024-10-20T01:08:30.429916Z"
    },
    "trusted": true
   },
   "outputs": [
    {
     "name": "stdout",
     "output_type": "stream",
     "text": [
      "Sample of genres:\n",
      "0                                 [comedy, romance]\n",
      "1            [adventure, biography, drama, history]\n",
      "2                  [action, crime, drama, thriller]\n",
      "3                      [adventure, mystery, sci-fi]\n",
      "4          [action, comedy, crime, drama, thriller]\n",
      "5    [action, adventure, romance, sci-fi, thriller]\n",
      "6                        [crime, mystery, thriller]\n",
      "7                       [fantasy, horror, thriller]\n",
      "8                       [fantasy, horror, thriller]\n",
      "9                                [sci-fi, thriller]\n",
      "Name: genres, dtype: object\n",
      "\n",
      "Data type of genres column: object\n"
     ]
    }
   ],
   "source": [
    "print(\"Sample of genres:\")\n",
    "print(movie_titles['genres'].head(10))\n",
    "print(\"\\nData type of genres column:\", movie_titles['genres'].dtype)"
   ]
  },
  {
   "cell_type": "markdown",
   "metadata": {},
   "source": [
    "### Checking utterances column"
   ]
  },
  {
   "cell_type": "code",
   "execution_count": 17,
   "metadata": {
    "execution": {
     "iopub.execute_input": "2024-10-20T01:10:44.001957Z",
     "iopub.status.busy": "2024-10-20T01:10:44.001301Z",
     "iopub.status.idle": "2024-10-20T01:10:44.008704Z",
     "shell.execute_reply": "2024-10-20T01:10:44.007695Z",
     "shell.execute_reply.started": "2024-10-20T01:10:44.001907Z"
    },
    "trusted": true
   },
   "outputs": [
    {
     "name": "stdout",
     "output_type": "stream",
     "text": [
      "Sample of utterances:\n",
      "0    [L194, L195, L196, L197]\n",
      "1                [L198, L199]\n",
      "2    [L200, L201, L202, L203]\n",
      "3          [L204, L205, L206]\n",
      "4                [L207, L208]\n",
      "Name: utterances, dtype: object\n",
      "\n",
      "Data type of utterances column: object\n"
     ]
    }
   ],
   "source": [
    "print(\"Sample of utterances:\")\n",
    "print(conversations['utterances'].head())\n",
    "print(\"\\nData type of utterances column:\", conversations['utterances'].dtype)"
   ]
  },
  {
   "cell_type": "markdown",
   "metadata": {},
   "source": [
    "## Analysis"
   ]
  },
  {
   "cell_type": "code",
   "execution_count": 21,
   "metadata": {
    "execution": {
     "iopub.execute_input": "2024-10-20T01:14:58.847563Z",
     "iopub.status.busy": "2024-10-20T01:14:58.847166Z",
     "iopub.status.idle": "2024-10-20T01:16:13.661915Z",
     "shell.execute_reply": "2024-10-20T01:16:13.660987Z",
     "shell.execute_reply.started": "2024-10-20T01:14:58.847526Z"
    },
    "trusted": true
   },
   "outputs": [
    {
     "name": "stdout",
     "output_type": "stream",
     "text": [
      "\n",
      "Top 5 movies by number of lines:\n",
      "movieID\n",
      "m289    1530\n",
      "m295    1398\n",
      "m299    1286\n",
      "m105    1214\n",
      "m238    1187\n",
      "dtype: int64\n",
      "\n",
      "Top 5 characters by number of lines:\n",
      "characterID\n",
      "u4525    537\n",
      "u1169    489\n",
      "u1475    472\n",
      "u3681    467\n",
      "u4331    465\n",
      "dtype: int64\n",
      "\n",
      "Top 5 movies by average line length:\n",
      "movieID\n",
      "m521    256.384615\n",
      "m56     143.523179\n",
      "m382    118.523148\n",
      "m104    117.064865\n",
      "m406    112.076923\n",
      "Name: text, dtype: float64\n",
      "\n",
      "Top 5 movies by number of lines:\n",
      "movieID\n",
      "m289    1530\n",
      "m295    1398\n",
      "m299    1286\n",
      "m105    1214\n",
      "m238    1187\n",
      "dtype: int64\n",
      "\n",
      "Top 5 characters by number of lines:\n",
      "characterID\n",
      "u4525    537\n",
      "u1169    489\n",
      "u1475    472\n",
      "u3681    467\n",
      "u4331    465\n",
      "dtype: int64\n",
      "\n",
      "Top 5 movies by average line length:\n",
      "movieID\n",
      "m521    256.384615\n",
      "m56     143.523179\n",
      "m382    118.523148\n",
      "m104    117.064865\n",
      "m406    112.076923\n",
      "Name: text, dtype: float64\n",
      "\n",
      "Top 20 most common words:\n",
      "[('know', 21649), ('like', 15000), ('get', 14149), ('got', 13297), ('want', 11055), ('think', 10779), ('one', 10575), ('right', 10019), ('go', 9911), ('well', 9852), ('going', 8862), ('would', 8289), ('see', 8217), ('oh', 7834), ('yes', 7377), ('good', 7320), ('could', 7242), ('yeah', 6965), ('tell', 6832), ('come', 6754)]\n",
      "\n",
      "Number of movies by decade:\n",
      "decade\n",
      "1920      2\n",
      "1930     16\n",
      "1940     15\n",
      "1950     17\n",
      "1960     19\n",
      "1970     51\n",
      "1980    108\n",
      "1990    244\n",
      "2000    144\n",
      "2010      1\n",
      "Name: movieID, dtype: int64\n",
      "\n",
      "Top 10 most common genres:\n",
      "[('drama', 320), ('thriller', 269), ('action', 168), ('comedy', 162), ('crime', 147), ('romance', 132), ('sci-fi', 120), ('adventure', 116), ('mystery', 102), ('horror', 99)]\n",
      "\n",
      "Average rating by genre:\n",
      "genres\n",
      "film-noir      8.433059\n",
      "war            7.823523\n",
      "biography      7.698032\n",
      "history        7.692870\n",
      "sport          7.347587\n",
      "musical        7.339007\n",
      "drama          7.299789\n",
      "short          7.210330\n",
      "romance        7.163545\n",
      "music          7.082533\n",
      "mystery        7.069341\n",
      "animation      7.066967\n",
      "crime          7.047390\n",
      "western        6.996010\n",
      "family         6.900091\n",
      "comedy         6.863626\n",
      "adventure      6.855194\n",
      "thriller       6.781191\n",
      "fantasy        6.707804\n",
      "sci-fi         6.700654\n",
      "documentary    6.648285\n",
      "action         6.508042\n",
      "adult          6.300000\n",
      "horror         6.166741\n",
      "Name: rating, dtype: float64\n"
     ]
    }
   ],
   "source": [
    "# Convert 'position' to numeric in characters, replacing '?' with NaN\n",
    "characters['position'] = pd.to_numeric(characters['position'], errors='coerce')\n",
    "\n",
    "# Merge movie lines with character information\n",
    "lines_with_char_info = pd.merge(movie_lines, characters[['characterID', 'gender', 'position']], on='characterID')\n",
    "\n",
    "# Merge movie lines with movie information\n",
    "lines_with_movie_info = pd.merge(lines_with_char_info, movie_titles[['movieID', 'title', 'year_numeric', 'rating', 'genres']], on='movieID')\n",
    "\n",
    "# Perform some basic analysis\n",
    "lines_per_movie = lines_with_movie_info.groupby('movieID').size().sort_values(ascending=False)\n",
    "lines_per_character = lines_with_movie_info.groupby('characterID').size().sort_values(ascending=False)\n",
    "avg_line_length = lines_with_movie_info.groupby('movieID')['text'].apply(lambda x: x.str.len().mean())\n",
    "\n",
    "print(\"\\nTop 5 movies by number of lines:\")\n",
    "print(lines_per_movie.head())\n",
    "print(\"\\nTop 5 characters by number of lines:\")\n",
    "print(lines_per_character.head())\n",
    "print(\"\\nTop 5 movies by average line length:\")\n",
    "print(avg_line_length.sort_values(ascending=False).head())\n",
    "\n",
    "stop_words = set(stopwords.words('english'))\n",
    "\n",
    "def preprocess_text(text):\n",
    "    if pd.isna(text):\n",
    "        return []\n",
    "    tokens = word_tokenize(str(text).lower())\n",
    "    return [w for w in tokens if w.isalnum() and w not in stop_words]\n",
    "\n",
    "# Perform some basic analysis\n",
    "lines_per_movie = lines_with_movie_info.groupby('movieID').size().sort_values(ascending=False)\n",
    "lines_per_character = lines_with_movie_info.groupby('characterID').size().sort_values(ascending=False)\n",
    "avg_line_length = lines_with_movie_info.groupby('movieID')['text'].apply(lambda x: x.str.len().mean())\n",
    "\n",
    "print(\"\\nTop 5 movies by number of lines:\")\n",
    "print(lines_per_movie.head())\n",
    "print(\"\\nTop 5 characters by number of lines:\")\n",
    "print(lines_per_character.head())\n",
    "print(\"\\nTop 5 movies by average line length:\")\n",
    "print(avg_line_length.sort_values(ascending=False).head())\n",
    "\n",
    "lines_with_movie_info['processed_text'] = lines_with_movie_info['text'].apply(preprocess_text)\n",
    "\n",
    "# Generate word frequency distribution\n",
    "all_words = [word for words in lines_with_movie_info['processed_text'] for word in words]\n",
    "word_freq = Counter(all_words)\n",
    "\n",
    "print(\"\\nTop 20 most common words:\")\n",
    "print(word_freq.most_common(20))\n",
    "\n",
    "# Additional analysis: Movies by decade\n",
    "lines_with_movie_info['decade'] = (lines_with_movie_info['year_numeric'] // 10) * 10\n",
    "movies_by_decade = lines_with_movie_info.groupby('decade')['movieID'].nunique().sort_index()\n",
    "\n",
    "print(\"\\nNumber of movies by decade:\")\n",
    "print(movies_by_decade)\n",
    "\n",
    "# Genre analysis\n",
    "genre_counts = Counter([genre for genres in movie_titles['genres'] for genre in genres])\n",
    "\n",
    "print(\"\\nTop 10 most common genres:\")\n",
    "print(genre_counts.most_common(10))\n",
    "\n",
    "# Average rating by genre\n",
    "genre_ratings = lines_with_movie_info.explode('genres').groupby('genres')['rating'].mean().sort_values(ascending=False)\n",
    "\n",
    "print(\"\\nAverage rating by genre:\")\n",
    "print(genre_ratings)"
   ]
  },
  {
   "cell_type": "markdown",
   "source": [
    "\"Action\" and \"Horror\" genres have lower average ratings (6.51 and 6.17, respectively). This suggests that more serious, dramatic genres (e.g., film-noir, war) tend to be rated higher by viewers, while action-oriented genres receive lower ratings on average. This data provides insights into the distribution of dialogue, characters, genres, and ratings within the movie dialogue dataset."
   ],
   "metadata": {
    "collapsed": false
   }
  },
  {
   "cell_type": "code",
   "execution_count": 24,
   "metadata": {
    "execution": {
     "iopub.execute_input": "2024-10-20T01:21:52.718996Z",
     "iopub.status.busy": "2024-10-20T01:21:52.718200Z",
     "iopub.status.idle": "2024-10-20T01:21:52.760525Z",
     "shell.execute_reply": "2024-10-20T01:21:52.759596Z",
     "shell.execute_reply.started": "2024-10-20T01:21:52.718960Z"
    },
    "trusted": true
   },
   "outputs": [
    {
     "name": "stdout",
     "output_type": "stream",
     "text": [
      "Number of null values in 'text' column: 267\n"
     ]
    }
   ],
   "source": [
    "print(\"Number of null values in 'text' column:\", lines_with_movie_info['text'].isnull().sum())"
   ]
  },
  {
   "cell_type": "markdown",
   "source": [
    "This code helps explore the relationships between various movie features (like year, rating, votes, and line length) and provides a visual and statistical overview of the dataset."
   ],
   "metadata": {
    "collapsed": false
   }
  },
  {
   "cell_type": "code",
   "execution_count": 28,
   "metadata": {
    "execution": {
     "iopub.execute_input": "2024-10-20T01:41:24.698465Z",
     "iopub.status.busy": "2024-10-20T01:41:24.697873Z",
     "iopub.status.idle": "2024-10-20T01:41:25.038012Z",
     "shell.execute_reply": "2024-10-20T01:41:25.037099Z",
     "shell.execute_reply.started": "2024-10-20T01:41:24.698405Z"
    },
    "trusted": true
   },
   "outputs": [
    {
     "name": "stdout",
     "output_type": "stream",
     "text": [
      "<class 'pandas.core.frame.DataFrame'>\n",
      "RangeIndex: 617 entries, 0 to 616\n",
      "Data columns (total 10 columns):\n",
      " #   Column           Non-Null Count  Dtype  \n",
      "---  ------           --------------  -----  \n",
      " 0   movieID          617 non-null    object \n",
      " 1   title            617 non-null    object \n",
      " 2   year             617 non-null    object \n",
      " 3   rating           617 non-null    float64\n",
      " 4   votes            617 non-null    int64  \n",
      " 5   genres           617 non-null    object \n",
      " 6   year_clean       617 non-null    int64  \n",
      " 7   year_numeric     617 non-null    int64  \n",
      " 8   line_count       0 non-null      float64\n",
      " 9   avg_line_length  617 non-null    float64\n",
      "dtypes: float64(3), int64(3), object(4)\n",
      "memory usage: 48.3+ KB\n",
      "None\n",
      "\n",
      "Columns with infinite values:\n",
      "movieID            0\n",
      "title              0\n",
      "year               0\n",
      "rating             0\n",
      "votes              0\n",
      "genres             0\n",
      "year_clean         0\n",
      "year_numeric       0\n",
      "line_count         0\n",
      "avg_line_length    0\n",
      "dtype: int64\n",
      "\n",
      "Shape of movie_features after dropping NaN values: (617, 4)\n"
     ]
    },
    {
     "data": {
      "image/png": "[encoded data removed]",
      "text/plain": [
       "<Figure size 1000x800 with 2 Axes>"
      ]
     },
     "metadata": {},
     "output_type": "display_data"
    },
    {
     "name": "stdout",
     "output_type": "stream",
     "text": [
      "\n",
      "Correlation matrix:\n",
      "                 year_numeric    rating     votes  avg_line_length\n",
      "year_numeric         1.000000 -0.299029  0.093051        -0.072956\n",
      "rating              -0.299029  1.000000  0.518592         0.059646\n",
      "votes                0.093051  0.518592  1.000000         0.020686\n",
      "avg_line_length     -0.072956  0.059646  0.020686         1.000000\n",
      "\n",
      "Correlation between year and rating: -0.30\n",
      "P-value: 0.0000\n",
      "\n",
      "Correlation between votes and rating: 0.52\n",
      "P-value: 0.0000\n",
      "\n",
      "Correlation between average line length and rating: 0.06\n",
      "P-value: 0.1389\n",
      "\n",
      "Basic statistics of movie features:\n",
      "       year_numeric      rating          votes  avg_line_length\n",
      "count    617.000000  617.000000     617.000000       617.000000\n",
      "mean    1988.575365    6.863857   49820.962723        56.306179\n",
      "std       16.589229    1.215233   61880.609145        15.227518\n",
      "min     1927.000000    2.500000       9.000000        26.332602\n",
      "25%     1984.000000    6.200000    9919.000000        47.695067\n",
      "50%     1994.000000    7.000000   27112.000000        54.879808\n",
      "75%     1999.000000    7.800000   66781.000000        62.166667\n",
      "max     2010.000000    9.300000  419312.000000       256.384615\n",
      "\n",
      "Number of movies in the dataset: 617\n",
      "Number of movies with complete feature data: 617\n",
      "\n",
      "First few rows of movie_features:\n",
      "   year_numeric  rating   votes  avg_line_length\n",
      "0          1999     6.9   62847        41.823353\n",
      "1          1992     6.2   10421        51.117216\n",
      "2          2001     6.1   25854        53.879464\n",
      "3          1968     8.4  163227        59.055147\n",
      "4          1982     6.9   22289        57.155709\n"
     ]
    }
   ],
   "source": [
    "import pandas as pd\n",
    "import numpy as np\n",
    "import matplotlib.pyplot as plt\n",
    "import seaborn as sns\n",
    "from scipy import stats\n",
    "\n",
    "# First, let's check the data types and non-null counts of our features\n",
    "print(movie_titles.info())\n",
    "\n",
    "# Check for any infinite values\n",
    "print(\"\\nColumns with infinite values:\")\n",
    "print(movie_titles.isin([np.inf, -np.inf]).sum())\n",
    "\n",
    "# Replace infinite values with NaN\n",
    "movie_titles = movie_titles.replace([np.inf, -np.inf], np.nan)\n",
    "\n",
    "# Convert 'votes' to numeric if it's not already\n",
    "movie_titles['votes'] = pd.to_numeric(movie_titles['votes'], errors='coerce')\n",
    "\n",
    "# Create movie_features DataFrame, dropping rows with NaN values\n",
    "movie_features = movie_titles[['year_numeric', 'rating', 'votes', 'avg_line_length']].dropna()\n",
    "print(\"\\nShape of movie_features after dropping NaN values:\", movie_features.shape)\n",
    "\n",
    "if len(movie_features) > 1:\n",
    "    correlation_matrix = movie_features.corr()\n",
    "    plt.figure(figsize=(10, 8))\n",
    "    sns.heatmap(correlation_matrix, annot=True, cmap='coolwarm')\n",
    "    plt.title('Correlation Matrix of Movie Features')\n",
    "    plt.show()\n",
    "    print(\"\\nCorrelation matrix:\")\n",
    "    print(correlation_matrix)\n",
    "\n",
    "    # Calculate correlation coefficient between year_numeric and rating\n",
    "    correlation_coefficient, p_value = stats.pearsonr(movie_features['year_numeric'], movie_features['rating'])\n",
    "    print(f\"\\nCorrelation between year and rating: {correlation_coefficient:.2f}\")\n",
    "    print(f\"P-value: {p_value:.4f}\")\n",
    "\n",
    "    # Calculate correlation coefficient between votes and rating\n",
    "    correlation_coefficient, p_value = stats.pearsonr(movie_features['votes'], movie_features['rating'])\n",
    "    print(f\"\\nCorrelation between votes and rating: {correlation_coefficient:.2f}\")\n",
    "    print(f\"P-value: {p_value:.4f}\")\n",
    "\n",
    "    # Calculate correlation coefficient between avg_line_length and rating\n",
    "    correlation_coefficient, p_value = stats.pearsonr(movie_features['avg_line_length'], movie_features['rating'])\n",
    "    print(f\"\\nCorrelation between average line length and rating: {correlation_coefficient:.2f}\")\n",
    "    print(f\"P-value: {p_value:.4f}\")\n",
    "\n",
    "    print(\"\\nBasic statistics of movie features:\")\n",
    "    print(movie_features.describe())\n",
    "\n",
    "    print(\"\\nNumber of movies in the dataset:\", len(movie_titles))\n",
    "    print(\"Number of movies with complete feature data:\", len(movie_features))\n",
    "else:\n",
    "    print(\"Not enough valid data points for correlation analysis.\")\n",
    "\n",
    "print(\"\\nFirst few rows of movie_features:\")\n",
    "print(movie_features.head())"
   ]
  },
  {
   "cell_type": "markdown",
   "metadata": {},
   "source": [
    "### Data Cleaning and Loading:\n",
    "1. **Movie Titles Metadata**: The metadata about movies (movie ID, title, year, rating, votes, and genres) is loaded.\n",
    "2. **Character Metadata**: Information about characters, including their gender and position, is imported.\n",
    "3. **Movie Lines**: Dialogue lines are loaded and merged with the movie and character metadata.\n",
    "4. **Movie Conversations**: Dialogue interactions between characters are loaded.\n",
    "\n",
    "#### Key Cleaning Steps:\n",
    "  Year Standardization: Non-standard year entries were identified and cleaned to retain the first four digits. For example, \"1999/I\" was cleaned to \"1999\".\n",
    "\n",
    "  Genre and Utterance Checks: Sampled data ensured that genres and conversation utterances were formatted properly and usable for analysis.\n",
    "\n",
    "### Analysis:\n",
    "1. **Lines Per Movie**: A count of dialogue lines per movie is computed.\n",
    "2. **Lines Per Character**: A similar analysis is done to find the top 5 characters based on the number of lines.\n",
    "3. **Average Line Length**: For each movie, the average length of dialogue lines is computed.\n",
    "4. **Word Frequency**: It calculates the most common words across the movie lines.\n",
    "5. **Movies by Decade**: It groups movies based on their decade of release and counts how many belong to each decade.\n",
    "6. **Genre Frequency**: The most frequent genres in the dataset are identified and ranked.\n",
    "7. **Average Rating by Genre**: It also computes the average rating for movies based on their genres.\n",
    "\n",
    "### Visualization:\n",
    "A **correlation matrix** is generated to investigate relationships between features like `year_numeric`, `rating`, `votes`, and `avg_line_length`. The matrix is plotted using a heatmap.\n",
    "\n",
    "Key findings include:\n",
    "- **Correlation between year and rating**: -0.30 (statistically significant).\n",
    "- **Correlation between votes and rating**: 0.52 (statistically significant).\n",
    "- **Correlation between line length and rating**: 0.06 (not statistically significant).\n",
    "\n",
    "### Descriptive Statistics:\n",
    "The dataset contains 617 movies, with complete information for features like year, rating, votes, and average line length. Descriptive statistics for these features show:\n",
    "- Average movie rating: 6.86\n",
    "- Average votes: ~49,821\n",
    "- Average line length: ~56.31 words"
   ]
  }
 ],
 "metadata": {
  "kaggle": {
   "accelerator": "gpu",
   "dataSources": [
    {
     "datasetId": 18754,
     "sourceId": 24465,
     "sourceType": "datasetVersion"
    }
   ],
   "dockerImageVersionId": 30786,
   "isGpuEnabled": true,
   "isInternetEnabled": true,
   "language": "python",
   "sourceType": "notebook"
  },
  "kernelspec": {
   "display_name": "Python 3",
   "language": "python",
   "name": "python3"
  },
  "language_info": {
   "codemirror_mode": {
    "name": "ipython",
    "version": 3
   },
   "file_extension": ".py",
   "mimetype": "text/x-python",
   "name": "python",
   "nbconvert_exporter": "python",
   "pygments_lexer": "ipython3",
   "version": "3.10.14"
  }
 },
 "nbformat": 4,
 "nbformat_minor": 4
}
